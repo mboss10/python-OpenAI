{
 "cells": [
  {
   "cell_type": "markdown",
   "id": "6e3ca763",
   "metadata": {},
   "source": [
    "# Using OpenAI API with Python"
   ]
  },
  {
   "cell_type": "markdown",
   "id": "19255e6c",
   "metadata": {},
   "source": [
    "## Install the library"
   ]
  },
  {
   "cell_type": "code",
   "execution_count": 5,
   "id": "52000368",
   "metadata": {
    "collapsed": true
   },
   "outputs": [
    {
     "name": "stdout",
     "output_type": "stream",
     "text": [
      "Collecting openai==0.28\n",
      "  Downloading openai-0.28.0-py3-none-any.whl (76 kB)\n",
      "\u001b[2K     \u001b[90m━━━━━━━━━━━━━━━━━━━━━━━━━━━━━━━━━━━━━━━━\u001b[0m \u001b[32m76.5/76.5 kB\u001b[0m \u001b[31m2.6 MB/s\u001b[0m eta \u001b[36m0:00:00\u001b[0m\n",
      "\u001b[?25hCollecting aiohttp\n",
      "  Downloading aiohttp-3.9.3-cp310-cp310-macosx_10_9_x86_64.whl (397 kB)\n",
      "\u001b[2K     \u001b[90m━━━━━━━━━━━━━━━━━━━━━━━━━━━━━━━━━━━━━━━\u001b[0m \u001b[32m397.9/397.9 kB\u001b[0m \u001b[31m6.8 MB/s\u001b[0m eta \u001b[36m0:00:00\u001b[0m00:01\u001b[0m\n",
      "\u001b[?25hRequirement already satisfied: tqdm in /Users/max/anaconda3/lib/python3.10/site-packages (from openai==0.28) (4.64.1)\n",
      "Requirement already satisfied: requests>=2.20 in /Users/max/anaconda3/lib/python3.10/site-packages (from openai==0.28) (2.28.1)\n",
      "Requirement already satisfied: idna<4,>=2.5 in /Users/max/anaconda3/lib/python3.10/site-packages (from requests>=2.20->openai==0.28) (3.4)\n",
      "Requirement already satisfied: certifi>=2017.4.17 in /Users/max/anaconda3/lib/python3.10/site-packages (from requests>=2.20->openai==0.28) (2022.12.7)\n",
      "Requirement already satisfied: urllib3<1.27,>=1.21.1 in /Users/max/anaconda3/lib/python3.10/site-packages (from requests>=2.20->openai==0.28) (1.26.14)\n",
      "Requirement already satisfied: charset-normalizer<3,>=2 in /Users/max/anaconda3/lib/python3.10/site-packages (from requests>=2.20->openai==0.28) (2.0.4)\n",
      "Collecting async-timeout<5.0,>=4.0\n",
      "  Downloading async_timeout-4.0.3-py3-none-any.whl (5.7 kB)\n",
      "Collecting frozenlist>=1.1.1\n",
      "  Downloading frozenlist-1.4.1-cp310-cp310-macosx_10_9_x86_64.whl (53 kB)\n",
      "\u001b[2K     \u001b[90m━━━━━━━━━━━━━━━━━━━━━━━━━━━━━━━━━━━━━━━━\u001b[0m \u001b[32m53.8/53.8 kB\u001b[0m \u001b[31m2.3 MB/s\u001b[0m eta \u001b[36m0:00:00\u001b[0m\n",
      "\u001b[?25hRequirement already satisfied: attrs>=17.3.0 in /Users/max/anaconda3/lib/python3.10/site-packages (from aiohttp->openai==0.28) (22.1.0)\n",
      "Collecting multidict<7.0,>=4.5\n",
      "  Downloading multidict-6.0.5-cp310-cp310-macosx_10_9_x86_64.whl (30 kB)\n",
      "Collecting aiosignal>=1.1.2\n",
      "  Downloading aiosignal-1.3.1-py3-none-any.whl (7.6 kB)\n",
      "Collecting yarl<2.0,>=1.0\n",
      "  Downloading yarl-1.9.4-cp310-cp310-macosx_10_9_x86_64.whl (81 kB)\n",
      "\u001b[2K     \u001b[90m━━━━━━━━━━━━━━━━━━━━━━━━━━━━━━━━━━━━━━━━\u001b[0m \u001b[32m81.2/81.2 kB\u001b[0m \u001b[31m4.5 MB/s\u001b[0m eta \u001b[36m0:00:00\u001b[0m\n",
      "\u001b[?25hInstalling collected packages: multidict, frozenlist, async-timeout, yarl, aiosignal, aiohttp, openai\n",
      "  Attempting uninstall: openai\n",
      "    Found existing installation: openai 1.13.3\n",
      "    Uninstalling openai-1.13.3:\n",
      "      Successfully uninstalled openai-1.13.3\n",
      "Successfully installed aiohttp-3.9.3 aiosignal-1.3.1 async-timeout-4.0.3 frozenlist-1.4.1 multidict-6.0.5 openai-0.28.0 yarl-1.9.4\n",
      "Note: you may need to restart the kernel to use updated packages.\n"
     ]
    }
   ],
   "source": [
    "pip install --upgrade openai"
   ]
  },
  {
   "cell_type": "markdown",
   "id": "5b56e4b1",
   "metadata": {},
   "source": [
    "## Create the prompt completion function"
   ]
  },
  {
   "cell_type": "code",
   "execution_count": 10,
   "id": "999da851",
   "metadata": {},
   "outputs": [],
   "source": [
    "import time\n",
    "import openai\n",
    "\n",
    "openai.api_key = \"[we enter our API key here]\"\n",
    "\n",
    "def get_completion(prompt, model=\"gpt-3.5-turbo\"):\n",
    "    messages = [{\"role\": \"user\", \"content\": prompt}]\n",
    "    response = openai.chat.completions.create(\n",
    "        model=model,\n",
    "        messages=messages,\n",
    "        temperature=0.7, # this is the degree of randomness of the model's output\n",
    "    )\n",
    "\n",
    "    # Sleep for the delay\n",
    "    time.sleep(2)\n",
    "    \n",
    "    return response.choices[0].message.content"
   ]
  },
  {
   "cell_type": "markdown",
   "id": "43c9ff10",
   "metadata": {},
   "source": [
    "## Execute the function"
   ]
  },
  {
   "cell_type": "markdown",
   "id": "0b20859a",
   "metadata": {},
   "source": [
    "### Simple example of a poem"
   ]
  },
  {
   "cell_type": "code",
   "execution_count": 11,
   "id": "b985b553",
   "metadata": {},
   "outputs": [],
   "source": [
    "# first we define our prompt\n",
    "prompt = f\"\"\"\n",
    "Your task is to help generate a poem about Zinedine Zidane using the style of Baudelaire\\\n",
    "Make good ryhmes\n",
    "\"\"\"\n",
    "\n",
    "zidane_poem = get_completion(prompt)"
   ]
  },
  {
   "cell_type": "markdown",
   "id": "a87e5ec8",
   "metadata": {},
   "source": [
    "### Use the results - print our poem"
   ]
  },
  {
   "cell_type": "code",
   "execution_count": 12,
   "id": "9c07e5b0",
   "metadata": {},
   "outputs": [
    {
     "name": "stdout",
     "output_type": "stream",
     "text": [
      "In the realm of football, a legend's grace,\n",
      "Zidane, a maestro, with skill and pace,\n",
      "On the pitch, he danced with such finesse,\n",
      "A masterful display, none could assess.\n",
      "\n",
      "His footwork like a poet's pen,\n",
      "Crafting beauty in the lion's den,\n",
      "With every touch, a symphony played,\n",
      "In his artistry, all were swayed.\n",
      "\n",
      "Zidane, the prince of the soccer field,\n",
      "His presence, a force that would never yield,\n",
      "In his eyes, a fire burned bright,\n",
      "A warrior of the game, a beacon of light.\n",
      "\n",
      "Baudelaire would marvel at his art,\n",
      "The elegance in every move, the passion in his heart,\n",
      "Zidane, a muse for the ages,\n",
      "In the annals of football, he eternally rages.\n"
     ]
    }
   ],
   "source": [
    "print(zidane_poem)"
   ]
  },
  {
   "cell_type": "markdown",
   "id": "9433dfd7",
   "metadata": {},
   "source": [
    "## More Practical example"
   ]
  },
  {
   "cell_type": "code",
   "execution_count": 13,
   "id": "26c0c00c",
   "metadata": {},
   "outputs": [],
   "source": [
    "# We call the OpenAI API to generate demo data of survey feedback around an event\n",
    "prompt = f\"\"\"\n",
    "Your task is to help generate a 2 sentence feedback example of an attendee of a data connference\\\n",
    "You can use positive or negative elements\\\n",
    "The feedback should be in the same paragraph as if someone has replied to a survey open question\\\n",
    "Don't use carriage return\n",
    "\"\"\"\n",
    "\n",
    "survey_feedback = get_completion(prompt)"
   ]
  },
  {
   "cell_type": "code",
   "execution_count": 14,
   "id": "0001b641",
   "metadata": {},
   "outputs": [
    {
     "name": "stdout",
     "output_type": "stream",
     "text": [
      "The data conference was extremely informative and engaging, with a wide range of topics covered by knowledgeable speakers. However, I found the venue to be a bit crowded and the scheduling of sessions could have been more organized.\n"
     ]
    }
   ],
   "source": [
    "print(survey_feedback)"
   ]
  },
  {
   "cell_type": "code",
   "execution_count": 15,
   "id": "57b72083",
   "metadata": {},
   "outputs": [],
   "source": [
    "# initiate a list\n",
    "feedback_list = []\n",
    "\n",
    "# loop to feed the list with results of the prompt\n",
    "for i in range(5):\n",
    "    survey_feedback = get_completion(prompt)\n",
    "    feedback_list.append(survey_feedback,)\n",
    "    "
   ]
  },
  {
   "cell_type": "code",
   "execution_count": 43,
   "id": "a7d2d4df",
   "metadata": {},
   "outputs": [
    {
     "name": "stdout",
     "output_type": "stream",
     "text": [
      "List size: 5\n",
      "\n",
      "['The data conference was extremely informative and engaging, with a wide range of topics covered by knowledgeable speakers. However, I did feel that some of the sessions were a bit too technical and difficult to follow at times.', 'The data conference was extremely informative and engaging, with a wide range of topics covered by knowledgeable speakers. However, the networking opportunities were lacking, and it would have been beneficial to have more interactive sessions to facilitate discussions among attendees.', 'The data conference was incredibly informative and engaging, with a wide range of topics covered by knowledgeable speakers. However, I felt that the schedule was a bit overwhelming and could have benefited from more breaks between sessions.', 'Overall, I found the data conference to be incredibly informative and well-organized. The speakers were engaging and the networking opportunities were valuable.', '\"The data conference was extremely informative and well-organized. I was impressed by the range of topics covered and the expertise of the speakers.\"']\n",
      "\n",
      "Feedback number 1: The data conference was extremely informative and engaging, with a wide range of topics covered by knowledgeable speakers. However, I did feel that some of the sessions were a bit too technical and difficult to follow at times.\n",
      "\n",
      "Feedback number 2: The data conference was extremely informative and engaging, with a wide range of topics covered by knowledgeable speakers. However, the networking opportunities were lacking, and it would have been beneficial to have more interactive sessions to facilitate discussions among attendees.\n",
      "\n",
      "Feedback number 3: The data conference was incredibly informative and engaging, with a wide range of topics covered by knowledgeable speakers. However, I felt that the schedule was a bit overwhelming and could have benefited from more breaks between sessions.\n",
      "\n",
      "Feedback number 4: Overall, I found the data conference to be incredibly informative and well-organized. The speakers were engaging and the networking opportunities were valuable.\n",
      "\n",
      "Feedback number 5: \"The data conference was extremely informative and well-organized. I was impressed by the range of topics covered and the expertise of the speakers.\"\n",
      "\n",
      "                                                   0\n",
      "0  The data conference was extremely informative ...\n",
      "1  The data conference was extremely informative ...\n",
      "2  The data conference was incredibly informative...\n",
      "3  Overall, I found the data conference to be inc...\n",
      "4  \"The data conference was extremely informative...\n"
     ]
    }
   ],
   "source": [
    "import pandas as pd\n",
    "\n",
    "print(f'List size: {len(feedback_list)}',end='\\n\\n')\n",
    "print(feedback_list,end='\\n\\n')\n",
    "for index,feedback in enumerate(feedback_list):\n",
    "    print(f'Feedback number {index+1}: {feedback}\\n')\n",
    "\n",
    "df = pd.DataFrame(feedback_list)\n",
    "print(df)"
   ]
  },
  {
   "cell_type": "code",
   "execution_count": null,
   "id": "76ebc6e5",
   "metadata": {},
   "outputs": [],
   "source": []
  }
 ],
 "metadata": {
  "kernelspec": {
   "display_name": "Python 3 (ipykernel)",
   "language": "python",
   "name": "python3"
  },
  "language_info": {
   "codemirror_mode": {
    "name": "ipython",
    "version": 3
   },
   "file_extension": ".py",
   "mimetype": "text/x-python",
   "name": "python",
   "nbconvert_exporter": "python",
   "pygments_lexer": "ipython3",
   "version": "3.10.9"
  }
 },
 "nbformat": 4,
 "nbformat_minor": 5
}
